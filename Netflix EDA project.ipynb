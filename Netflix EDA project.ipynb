{
 "cells": [
  {
   "cell_type": "code",
   "execution_count": 51,
   "id": "92f48281",
   "metadata": {},
   "outputs": [],
   "source": [
    "import numpy as np                                                 # Implemennts milti-dimensional array and matrices\n",
    "import pandas as pd                                                # For data manipulation and analysis\n",
    "from ydata_profiling import ProfileReport\n",
    "import matplotlib.pyplot as plt                                    # Plotting library for Python programming language and it's numerical mathematics extension NumPy\n",
    "import seaborn as sns                                              # Provides a high level interface for drawing attractive and informative statistical graphics\n",
    "%matplotlib inline\n",
    "sns.set()\n",
    "from subprocess import check_output"
   ]
  },
  {
   "cell_type": "code",
   "execution_count": 52,
   "id": "a09a7671",
   "metadata": {
    "scrolled": true
   },
   "outputs": [
    {
     "data": {
      "text/html": [
       "<div>\n",
       "<style scoped>\n",
       "    .dataframe tbody tr th:only-of-type {\n",
       "        vertical-align: middle;\n",
       "    }\n",
       "\n",
       "    .dataframe tbody tr th {\n",
       "        vertical-align: top;\n",
       "    }\n",
       "\n",
       "    .dataframe thead th {\n",
       "        text-align: right;\n",
       "    }\n",
       "</style>\n",
       "<table border=\"1\" class=\"dataframe\">\n",
       "  <thead>\n",
       "    <tr style=\"text-align: right;\">\n",
       "      <th></th>\n",
       "      <th>show_id</th>\n",
       "      <th>title</th>\n",
       "      <th>director</th>\n",
       "      <th>cast</th>\n",
       "      <th>country</th>\n",
       "      <th>date_added</th>\n",
       "      <th>release_year</th>\n",
       "      <th>rating</th>\n",
       "      <th>duration</th>\n",
       "      <th>listed_in</th>\n",
       "      <th>description</th>\n",
       "      <th>type</th>\n",
       "    </tr>\n",
       "  </thead>\n",
       "  <tbody>\n",
       "    <tr>\n",
       "      <th>0</th>\n",
       "      <td>81193313</td>\n",
       "      <td>Chocolate</td>\n",
       "      <td>NaN</td>\n",
       "      <td>Ha Ji-won, Yoon Kye-sang, Jang Seung-jo, Kang ...</td>\n",
       "      <td>South Korea</td>\n",
       "      <td>November 30, 2019</td>\n",
       "      <td>2019</td>\n",
       "      <td>TV-14</td>\n",
       "      <td>1 Season</td>\n",
       "      <td>International TV Shows, Korean TV Shows, Roman...</td>\n",
       "      <td>Brought together by meaningful meals in the pa...</td>\n",
       "      <td>TV Show</td>\n",
       "    </tr>\n",
       "    <tr>\n",
       "      <th>1</th>\n",
       "      <td>81197050</td>\n",
       "      <td>Guatemala: Heart of the Mayan World</td>\n",
       "      <td>Luis Ara, Ignacio Jaunsolo</td>\n",
       "      <td>Christian Morales</td>\n",
       "      <td>NaN</td>\n",
       "      <td>November 30, 2019</td>\n",
       "      <td>2019</td>\n",
       "      <td>TV-G</td>\n",
       "      <td>67 min</td>\n",
       "      <td>Documentaries, International Movies</td>\n",
       "      <td>From Sierra de las Minas to Esquipulas, explor...</td>\n",
       "      <td>Movie</td>\n",
       "    </tr>\n",
       "    <tr>\n",
       "      <th>2</th>\n",
       "      <td>81213894</td>\n",
       "      <td>The Zoya Factor</td>\n",
       "      <td>Abhishek Sharma</td>\n",
       "      <td>Sonam Kapoor, Dulquer Salmaan, Sanjay Kapoor, ...</td>\n",
       "      <td>India</td>\n",
       "      <td>November 30, 2019</td>\n",
       "      <td>2019</td>\n",
       "      <td>TV-14</td>\n",
       "      <td>135 min</td>\n",
       "      <td>Comedies, Dramas, International Movies</td>\n",
       "      <td>A goofy copywriter unwittingly convinces the I...</td>\n",
       "      <td>Movie</td>\n",
       "    </tr>\n",
       "    <tr>\n",
       "      <th>3</th>\n",
       "      <td>81082007</td>\n",
       "      <td>Atlantics</td>\n",
       "      <td>Mati Diop</td>\n",
       "      <td>Mama Sane, Amadou Mbow, Ibrahima Traore, Nicol...</td>\n",
       "      <td>France, Senegal, Belgium</td>\n",
       "      <td>November 29, 2019</td>\n",
       "      <td>2019</td>\n",
       "      <td>TV-14</td>\n",
       "      <td>106 min</td>\n",
       "      <td>Dramas, Independent Movies, International Movies</td>\n",
       "      <td>Arranged to marry a rich man, young Ada is cru...</td>\n",
       "      <td>Movie</td>\n",
       "    </tr>\n",
       "    <tr>\n",
       "      <th>4</th>\n",
       "      <td>80213643</td>\n",
       "      <td>Chip and Potato</td>\n",
       "      <td>NaN</td>\n",
       "      <td>Abigail Oliver, Andrea Libman, Briana Buckmast...</td>\n",
       "      <td>Canada, United Kingdom</td>\n",
       "      <td>NaN</td>\n",
       "      <td>2019</td>\n",
       "      <td>TV-Y</td>\n",
       "      <td>2 Seasons</td>\n",
       "      <td>Kids' TV</td>\n",
       "      <td>Lovable pug Chip starts kindergarten, makes ne...</td>\n",
       "      <td>TV Show</td>\n",
       "    </tr>\n",
       "    <tr>\n",
       "      <th>...</th>\n",
       "      <td>...</td>\n",
       "      <td>...</td>\n",
       "      <td>...</td>\n",
       "      <td>...</td>\n",
       "      <td>...</td>\n",
       "      <td>...</td>\n",
       "      <td>...</td>\n",
       "      <td>...</td>\n",
       "      <td>...</td>\n",
       "      <td>...</td>\n",
       "      <td>...</td>\n",
       "      <td>...</td>\n",
       "    </tr>\n",
       "    <tr>\n",
       "      <th>5832</th>\n",
       "      <td>70141644</td>\n",
       "      <td>Mad Ron's Prevues from Hell</td>\n",
       "      <td>Jim Monaco</td>\n",
       "      <td>Nick Pawlow, Jordu Schell, Jay Kushwara, Micha...</td>\n",
       "      <td>United States</td>\n",
       "      <td>November 1, 2010</td>\n",
       "      <td>1987</td>\n",
       "      <td>NR</td>\n",
       "      <td>84 min</td>\n",
       "      <td>Cult Movies, Horror Movies</td>\n",
       "      <td>This collection cherry-picks trailers, forgott...</td>\n",
       "      <td>Movie</td>\n",
       "    </tr>\n",
       "    <tr>\n",
       "      <th>5833</th>\n",
       "      <td>70127998</td>\n",
       "      <td>Splatter</td>\n",
       "      <td>Joe Dante</td>\n",
       "      <td>Corey Feldman, Tony Todd, Tara Leigh, Erin Way...</td>\n",
       "      <td>United States</td>\n",
       "      <td>November 18, 2009</td>\n",
       "      <td>2009</td>\n",
       "      <td>TV-14</td>\n",
       "      <td>29 min</td>\n",
       "      <td>Horror Movies</td>\n",
       "      <td>After committing suicide, a washed-up rocker r...</td>\n",
       "      <td>Movie</td>\n",
       "    </tr>\n",
       "    <tr>\n",
       "      <th>5834</th>\n",
       "      <td>70084180</td>\n",
       "      <td>Just Another Love Story</td>\n",
       "      <td>Ole Bornedal</td>\n",
       "      <td>Anders W. Berthelsen, Rebecka Hemse, Nikolaj L...</td>\n",
       "      <td>Denmark</td>\n",
       "      <td>May 5, 2009</td>\n",
       "      <td>2007</td>\n",
       "      <td>NR</td>\n",
       "      <td>104 min</td>\n",
       "      <td>Dramas, International Movies</td>\n",
       "      <td>When he causes a car accident that leaves a yo...</td>\n",
       "      <td>Movie</td>\n",
       "    </tr>\n",
       "    <tr>\n",
       "      <th>5835</th>\n",
       "      <td>70157452</td>\n",
       "      <td>Dinner for Five</td>\n",
       "      <td>NaN</td>\n",
       "      <td>NaN</td>\n",
       "      <td>United States</td>\n",
       "      <td>February 4, 2008</td>\n",
       "      <td>2007</td>\n",
       "      <td>TV-MA</td>\n",
       "      <td>1 Season</td>\n",
       "      <td>Stand-Up Comedy &amp; Talk Shows</td>\n",
       "      <td>In each episode, four celebrities join host Jo...</td>\n",
       "      <td>TV Show</td>\n",
       "    </tr>\n",
       "    <tr>\n",
       "      <th>5836</th>\n",
       "      <td>70053412</td>\n",
       "      <td>To and From New York</td>\n",
       "      <td>Sorin Dan Mihalcescu</td>\n",
       "      <td>Barbara King, Shaana Diya, John Krisiukenas, Y...</td>\n",
       "      <td>United States</td>\n",
       "      <td>January 1, 2008</td>\n",
       "      <td>2006</td>\n",
       "      <td>NR</td>\n",
       "      <td>81 min</td>\n",
       "      <td>Dramas, Independent Movies, Thrillers</td>\n",
       "      <td>While covering a story in New York City, a Sea...</td>\n",
       "      <td>Movie</td>\n",
       "    </tr>\n",
       "  </tbody>\n",
       "</table>\n",
       "<p>5837 rows × 12 columns</p>\n",
       "</div>"
      ],
      "text/plain": [
       "       show_id                                title  \\\n",
       "0     81193313                            Chocolate   \n",
       "1     81197050  Guatemala: Heart of the Mayan World   \n",
       "2     81213894                      The Zoya Factor   \n",
       "3     81082007                            Atlantics   \n",
       "4     80213643                      Chip and Potato   \n",
       "...        ...                                  ...   \n",
       "5832  70141644          Mad Ron's Prevues from Hell   \n",
       "5833  70127998                             Splatter   \n",
       "5834  70084180              Just Another Love Story   \n",
       "5835  70157452                      Dinner for Five   \n",
       "5836  70053412                 To and From New York   \n",
       "\n",
       "                        director  \\\n",
       "0                            NaN   \n",
       "1     Luis Ara, Ignacio Jaunsolo   \n",
       "2                Abhishek Sharma   \n",
       "3                      Mati Diop   \n",
       "4                            NaN   \n",
       "...                          ...   \n",
       "5832                  Jim Monaco   \n",
       "5833                   Joe Dante   \n",
       "5834                Ole Bornedal   \n",
       "5835                         NaN   \n",
       "5836        Sorin Dan Mihalcescu   \n",
       "\n",
       "                                                   cast  \\\n",
       "0     Ha Ji-won, Yoon Kye-sang, Jang Seung-jo, Kang ...   \n",
       "1                                     Christian Morales   \n",
       "2     Sonam Kapoor, Dulquer Salmaan, Sanjay Kapoor, ...   \n",
       "3     Mama Sane, Amadou Mbow, Ibrahima Traore, Nicol...   \n",
       "4     Abigail Oliver, Andrea Libman, Briana Buckmast...   \n",
       "...                                                 ...   \n",
       "5832  Nick Pawlow, Jordu Schell, Jay Kushwara, Micha...   \n",
       "5833  Corey Feldman, Tony Todd, Tara Leigh, Erin Way...   \n",
       "5834  Anders W. Berthelsen, Rebecka Hemse, Nikolaj L...   \n",
       "5835                                                NaN   \n",
       "5836  Barbara King, Shaana Diya, John Krisiukenas, Y...   \n",
       "\n",
       "                       country         date_added  release_year rating  \\\n",
       "0                  South Korea  November 30, 2019          2019  TV-14   \n",
       "1                          NaN  November 30, 2019          2019   TV-G   \n",
       "2                        India  November 30, 2019          2019  TV-14   \n",
       "3     France, Senegal, Belgium  November 29, 2019          2019  TV-14   \n",
       "4       Canada, United Kingdom                NaN          2019   TV-Y   \n",
       "...                        ...                ...           ...    ...   \n",
       "5832             United States   November 1, 2010          1987     NR   \n",
       "5833             United States  November 18, 2009          2009  TV-14   \n",
       "5834                   Denmark        May 5, 2009          2007     NR   \n",
       "5835             United States   February 4, 2008          2007  TV-MA   \n",
       "5836             United States    January 1, 2008          2006     NR   \n",
       "\n",
       "       duration                                          listed_in  \\\n",
       "0      1 Season  International TV Shows, Korean TV Shows, Roman...   \n",
       "1        67 min                Documentaries, International Movies   \n",
       "2       135 min             Comedies, Dramas, International Movies   \n",
       "3       106 min   Dramas, Independent Movies, International Movies   \n",
       "4     2 Seasons                                           Kids' TV   \n",
       "...         ...                                                ...   \n",
       "5832     84 min                         Cult Movies, Horror Movies   \n",
       "5833     29 min                                      Horror Movies   \n",
       "5834    104 min                       Dramas, International Movies   \n",
       "5835   1 Season                       Stand-Up Comedy & Talk Shows   \n",
       "5836     81 min              Dramas, Independent Movies, Thrillers   \n",
       "\n",
       "                                            description     type  \n",
       "0     Brought together by meaningful meals in the pa...  TV Show  \n",
       "1     From Sierra de las Minas to Esquipulas, explor...    Movie  \n",
       "2     A goofy copywriter unwittingly convinces the I...    Movie  \n",
       "3     Arranged to marry a rich man, young Ada is cru...    Movie  \n",
       "4     Lovable pug Chip starts kindergarten, makes ne...  TV Show  \n",
       "...                                                 ...      ...  \n",
       "5832  This collection cherry-picks trailers, forgott...    Movie  \n",
       "5833  After committing suicide, a washed-up rocker r...    Movie  \n",
       "5834  When he causes a car accident that leaves a yo...    Movie  \n",
       "5835  In each episode, four celebrities join host Jo...  TV Show  \n",
       "5836  While covering a story in New York City, a Sea...    Movie  \n",
       "\n",
       "[5837 rows x 12 columns]"
      ]
     },
     "execution_count": 52,
     "metadata": {},
     "output_type": "execute_result"
    }
   ],
   "source": [
    "netflix_data= pd.read_csv(r\"C:\\Users\\MR HARRISON\\Downloads\\netflix_titles_nov_2019.csv\")\n",
    "netflix_data"
   ]
  },
  {
   "cell_type": "code",
   "execution_count": null,
   "id": "9db94fab",
   "metadata": {},
   "outputs": [],
   "source": [
    "1.0. \n",
    "What different types of show or movie are uploaded on Netflix?"
   ]
  },
  {
   "cell_type": "code",
   "execution_count": 50,
   "id": "cfe5da76",
   "metadata": {},
   "outputs": [
    {
     "data": {
      "text/plain": [
       "0    TV Show\n",
       "1      Movie\n",
       "Name: type, dtype: object"
      ]
     },
     "execution_count": 50,
     "metadata": {},
     "output_type": "execute_result"
    }
   ],
   "source": [
    "movies_category = netflix_data[\"type\"].head(2)\n",
    "movies_category"
   ]
  },
  {
   "cell_type": "code",
   "execution_count": 22,
   "id": "89c2f4c1",
   "metadata": {},
   "outputs": [
    {
     "data": {
      "text/plain": [
       "Text(0.5, 1.0, 'movies category.')"
      ]
     },
     "execution_count": 22,
     "metadata": {},
     "output_type": "execute_result"
    },
    {
     "data": {
      "image/png": "[encoded data removed]",
      "text/plain": [
       "<Figure size 640x480 with 1 Axes>"
      ]
     },
     "metadata": {},
     "output_type": "display_data"
    }
   ],
   "source": [
    "sns.countplot(x='type', data=netflix_data).set_title('movies category.')"
   ]
  },
  {
   "cell_type": "code",
   "execution_count": null,
   "id": "bc556ee4",
   "metadata": {},
   "outputs": [],
   "source": [
    "2.0 Correlation between the features"
   ]
  },
  {
   "cell_type": "code",
   "execution_count": 23,
   "id": "e02c8802",
   "metadata": {},
   "outputs": [
    {
     "name": "stderr",
     "output_type": "stream",
     "text": [
      "C:\\Users\\MR HARRISON\\AppData\\Local\\Temp\\ipykernel_2240\\4096409141.py:1: FutureWarning: The default value of numeric_only in DataFrame.corr is deprecated. In a future version, it will default to False. Select only valid columns or specify the value of numeric_only to silence this warning.\n",
      "  corr_data = netflix_data.corr()\n"
     ]
    },
    {
     "data": {
      "text/html": [
       "<div>\n",
       "<style scoped>\n",
       "    .dataframe tbody tr th:only-of-type {\n",
       "        vertical-align: middle;\n",
       "    }\n",
       "\n",
       "    .dataframe tbody tr th {\n",
       "        vertical-align: top;\n",
       "    }\n",
       "\n",
       "    .dataframe thead th {\n",
       "        text-align: right;\n",
       "    }\n",
       "</style>\n",
       "<table border=\"1\" class=\"dataframe\">\n",
       "  <thead>\n",
       "    <tr style=\"text-align: right;\">\n",
       "      <th></th>\n",
       "      <th>show_id</th>\n",
       "      <th>release_year</th>\n",
       "    </tr>\n",
       "  </thead>\n",
       "  <tbody>\n",
       "    <tr>\n",
       "      <th>show_id</th>\n",
       "      <td>1.000000</td>\n",
       "      <td>0.536742</td>\n",
       "    </tr>\n",
       "    <tr>\n",
       "      <th>release_year</th>\n",
       "      <td>0.536742</td>\n",
       "      <td>1.000000</td>\n",
       "    </tr>\n",
       "  </tbody>\n",
       "</table>\n",
       "</div>"
      ],
      "text/plain": [
       "               show_id  release_year\n",
       "show_id       1.000000      0.536742\n",
       "release_year  0.536742      1.000000"
      ]
     },
     "execution_count": 23,
     "metadata": {},
     "output_type": "execute_result"
    }
   ],
   "source": [
    "corr_data = netflix_data.corr()\n",
    "corr_data"
   ]
  },
  {
   "cell_type": "code",
   "execution_count": 25,
   "id": "801a4a32",
   "metadata": {},
   "outputs": [
    {
     "data": {
      "text/plain": [
       "Text(0.5, 1.0, 'Correlation between features')"
      ]
     },
     "execution_count": 25,
     "metadata": {},
     "output_type": "execute_result"
    },
    {
     "data": {
      "image/png": "[encoded data removed]",
      "text/plain": [
       "<Figure size 640x480 with 2 Axes>"
      ]
     },
     "metadata": {},
     "output_type": "display_data"
    }
   ],
   "source": [
    "sns.heatmap(corr_data,vmax = 0.8 , linewidth = 0.01 ,square = True,cmap = 'YlGnBu',linecolor = 'black')\n",
    "plt.title('Correlation between features')"
   ]
  },
  {
   "cell_type": "code",
   "execution_count": null,
   "id": "0243f3d2",
   "metadata": {},
   "outputs": [],
   "source": [
    "3.0 Most watched shows on the Netflix"
   ]
  },
  {
   "cell_type": "code",
   "execution_count": 28,
   "id": "87c61b5c",
   "metadata": {},
   "outputs": [
    {
     "data": {
      "text/plain": [
       "0      Limitless\n",
       "1           Love\n",
       "2    Oh My Ghost\n",
       "3    The Silence\n",
       "4         Tunnel\n",
       "Name: title, dtype: object"
      ]
     },
     "execution_count": 28,
     "metadata": {},
     "output_type": "execute_result"
    }
   ],
   "source": [
    "most_watched_movies =netflix_data['title'].mode()\n",
    "most_watched_movies"
   ]
  },
  {
   "cell_type": "code",
   "execution_count": null,
   "id": "a742cbfd",
   "metadata": {},
   "outputs": [],
   "source": [
    "4.0 Distribution of Ratings"
   ]
  },
  {
   "cell_type": "code",
   "execution_count": 37,
   "id": "adc07258",
   "metadata": {},
   "outputs": [
    {
     "data": {
      "image/png": "[encoded data removed]",
      "text/plain": [
       "<Figure size 500x500 with 1 Axes>"
      ]
     },
     "metadata": {},
     "output_type": "display_data"
    }
   ],
   "source": [
    "sns.displot(netflix_data['rating'],color = 'g')\n",
    "plt.title(\"rating Distribution\")\n",
    "plt.show()"
   ]
  },
  {
   "cell_type": "code",
   "execution_count": null,
   "id": "b92599b6",
   "metadata": {},
   "outputs": [],
   "source": [
    "5.0 Which has the highest rating Tv show or Movies"
   ]
  },
  {
   "cell_type": "code",
   "execution_count": 40,
   "id": "bed33452",
   "metadata": {},
   "outputs": [
    {
     "data": {
      "text/plain": [
       "0    TV-MA\n",
       "Name: rating, dtype: object"
      ]
     },
     "execution_count": 40,
     "metadata": {},
     "output_type": "execute_result"
    }
   ],
   "source": [
    "netflix_data['rating'].mode()"
   ]
  },
  {
   "cell_type": "code",
   "execution_count": null,
   "id": "92c10498",
   "metadata": {},
   "outputs": [],
   "source": [
    "6.0 Highest watched genres on Netflix"
   ]
  },
  {
   "cell_type": "code",
   "execution_count": 41,
   "id": "8fbe3479",
   "metadata": {},
   "outputs": [
    {
     "data": {
      "text/plain": [
       "0    Documentaries\n",
       "Name: listed_in, dtype: object"
      ]
     },
     "execution_count": 41,
     "metadata": {},
     "output_type": "execute_result"
    }
   ],
   "source": [
    "netflix_data['listed_in'].mode()"
   ]
  },
  {
   "cell_type": "code",
   "execution_count": null,
   "id": "dc72f143",
   "metadata": {},
   "outputs": [],
   "source": [
    "7.0 Released movie over the years"
   ]
  },
  {
   "cell_type": "code",
   "execution_count": 45,
   "id": "d41f8e71",
   "metadata": {},
   "outputs": [
    {
     "data": {
      "text/plain": [
       "release_year\n",
       "2018    1040\n",
       "2017     928\n",
       "2016     818\n",
       "2019     762\n",
       "2015     502\n",
       "        ... \n",
       "1956       1\n",
       "1955       1\n",
       "1954       1\n",
       "1947       1\n",
       "2020       1\n",
       "Name: title, Length: 71, dtype: int64"
      ]
     },
     "execution_count": 45,
     "metadata": {},
     "output_type": "execute_result"
    }
   ],
   "source": [
    "netflix_data.groupby('release_year')['title'].count().sort_values(ascending=False)"
   ]
  },
  {
   "cell_type": "code",
   "execution_count": null,
   "id": "b46ab50d",
   "metadata": {},
   "outputs": [],
   "source": []
  },
  {
   "cell_type": "code",
   "execution_count": null,
   "id": "91bea4d7",
   "metadata": {},
   "outputs": [],
   "source": [
    "8.0 Finding the best Month for releasing content"
   ]
  },
  {
   "cell_type": "code",
   "execution_count": 54,
   "id": "d28a8a8c",
   "metadata": {},
   "outputs": [],
   "source": [
    "netflix_data['date_added'] = pd.to_datetime(netflix_data['date_added'])"
   ]
  },
  {
   "cell_type": "code",
   "execution_count": 56,
   "id": "075617c4",
   "metadata": {},
   "outputs": [],
   "source": [
    "netflix_data['Month'] = netflix_data['date_added'].dt.month"
   ]
  },
  {
   "cell_type": "code",
   "execution_count": 65,
   "id": "15c1e972",
   "metadata": {},
   "outputs": [
    {
     "data": {
      "text/plain": [
       "Month\n",
       "10.0    580\n",
       "11.0    544\n",
       "3.0     504\n",
       "8.0     454\n",
       "12.0    424\n",
       "9.0     420\n",
       "7.0     413\n",
       "4.0     406\n",
       "1.0     389\n",
       "5.0     380\n",
       "2.0     342\n",
       "6.0     339\n",
       "Name: release_year, dtype: int64"
      ]
     },
     "execution_count": 65,
     "metadata": {},
     "output_type": "execute_result"
    }
   ],
   "source": [
    "netflix_data.groupby('Month')['release_year'].count().sort_values(ascending=False)"
   ]
  },
  {
   "cell_type": "code",
   "execution_count": 63,
   "id": "67d4afec",
   "metadata": {},
   "outputs": [
    {
     "data": {
      "text/plain": [
       "Text(0.5, 1.0, 'Highest released months.')"
      ]
     },
     "execution_count": 63,
     "metadata": {},
     "output_type": "execute_result"
    },
    {
     "data": {
      "image/png": "[encoded data removed]",
      "text/plain": [
       "<Figure size 640x480 with 1 Axes>"
      ]
     },
     "metadata": {},
     "output_type": "display_data"
    }
   ],
   "source": [
    "sns.countplot(x='Month', data=netflix_data).set_title('Highest released months.')"
   ]
  },
  {
   "cell_type": "code",
   "execution_count": null,
   "id": "73e6ebd5",
   "metadata": {},
   "outputs": [],
   "source": []
  }
 ],
 "metadata": {
  "kernelspec": {
   "display_name": "Python 3 (ipykernel)",
   "language": "python",
   "name": "python3"
  },
  "language_info": {
   "codemirror_mode": {
    "name": "ipython",
    "version": 3
   },
   "file_extension": ".py",
   "mimetype": "text/x-python",
   "name": "python",
   "nbconvert_exporter": "python",
   "pygments_lexer": "ipython3",
   "version": "3.10.9"
  }
 },
 "nbformat": 4,
 "nbformat_minor": 5
}
